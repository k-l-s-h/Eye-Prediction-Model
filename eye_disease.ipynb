{
  "cells": [
    {
      "cell_type": "markdown",
      "metadata": {
        "id": "view-in-github",
        "colab_type": "text"
      },
      "source": [
        "<a href=\"https://colab.research.google.com/github/k-l-s-h/Eye-Prediction-Model/blob/main/eye_disease.ipynb\" target=\"_parent\"><img src=\"https://colab.research.google.com/assets/colab-badge.svg\" alt=\"Open In Colab\"/></a>"
      ]
    },
    {
      "cell_type": "code",
      "execution_count": null,
      "metadata": {
        "colab": {
          "base_uri": "https://localhost:8080/"
        },
        "id": "1IYVzOh_Hb9y",
        "outputId": "8eac4aa9-14d3-4cb6-f29c-da22ba64cea2"
      },
      "outputs": [
        {
          "output_type": "stream",
          "name": "stdout",
          "text": [
            "Looking in indexes: https://pypi.org/simple, https://us-python.pkg.dev/colab-wheels/public/simple/\n",
            "Requirement already satisfied: dlib in /usr/local/lib/python3.8/dist-packages (19.24.0)\n"
          ]
        }
      ],
      "source": [
        "pip install dlib\n"
      ]
    },
    {
      "cell_type": "code",
      "execution_count": null,
      "metadata": {
        "id": "kGwEuT0EIV7B"
      },
      "outputs": [],
      "source": [
        "import matplotlib.pyplot as plt\n",
        "from sklearn.preprocessing import LabelEncoder\n",
        "import cv2\n",
        "from sklearn.model_selection import train_test_split\n",
        "from sklearn.utils import shuffle\n",
        "\n",
        "from tensorflow.keras.models import Sequential\n",
        "from tensorflow.keras.layers import Dense,Dropout,Flatten\n",
        "from tensorflow.keras.layers import Conv2D,MaxPool2D\n",
        "from tensorflow.keras.layers import Input, Dense\n",
        "from keras.utils import to_categorical\n",
        "from tensorflow.keras.models import Model\n",
        "from tensorflow.keras.preprocessing.image import ImageDataGenerator\n",
        "from sklearn.metrics import confusion_matrix\n",
        "import matplotlib.pyplot as plt\n",
        "\n",
        "from tensorflow.keras.applications.vgg16 import VGG16\n",
        "import pandas as pd\n",
        "import numpy as np\n",
        "import os\n",
        "from numpy import argmax"
      ]
    },
    {
      "cell_type": "code",
      "execution_count": null,
      "metadata": {
        "id": "is6YWP3-NdO_"
      },
      "outputs": [],
      "source": [
        "import zipfile\n",
        "with zipfile.ZipFile(\"archive.zip\",\"r\") as zip_ref:\n",
        "    zip_ref.extractall(\"targetdir\")"
      ]
    },
    {
      "cell_type": "code",
      "execution_count": null,
      "metadata": {
        "colab": {
          "base_uri": "https://localhost:8080/"
        },
        "id": "osQ2hSNrIV_X",
        "outputId": "732faf8c-47a8-42e4-8f1f-7586c81f83e8"
      },
      "outputs": [
        {
          "output_type": "execute_result",
          "data": {
            "text/plain": [
              "['Crossed_Eyes',\n",
              " 'Bulging_Eyes',\n",
              " 'Cataracts',\n",
              " 'Eye_diseases',\n",
              " 'Glaucoma',\n",
              " 'Uveitis']"
            ]
          },
          "metadata": {},
          "execution_count": 8
        }
      ],
      "source": [
        "PATH = \"./targetdir/Eye_diseases\"\n",
        "data_dir_list = os.listdir(PATH)\n",
        "data_dir_list"
      ]
    },
    {
      "cell_type": "code",
      "execution_count": null,
      "metadata": {
        "colab": {
          "base_uri": "https://localhost:8080/"
        },
        "id": "PWLKA-kdIWBg",
        "outputId": "6b4272ca-b930-495b-bdc0-24a50e37c675"
      },
      "outputs": [
        {
          "output_type": "stream",
          "name": "stdout",
          "text": [
            "Getting image from Crossed_Eyes folder\n",
            "Getting image from Bulging_Eyes folder\n",
            "Getting image from Cataracts folder\n",
            "Getting image from Eye_diseases folder\n",
            "Getting image from Glaucoma folder\n",
            "Getting image from Uveitis folder\n"
          ]
        }
      ],
      "source": [
        "img_rows=224\n",
        "img_cols=224\n",
        "num_channel=3\n",
        "\n",
        "num_epoch = 50\n",
        "batch_size = 32\n",
        "\n",
        "img_data_list=[]\n",
        "classes_names_list=[]\n",
        "target_column=[]\n",
        "for dataset in data_dir_list:\n",
        "    classes_names_list.append(dataset)\n",
        "    print(\"Getting image from {} folder\".format(dataset))\n",
        "    img_list= os.listdir(PATH +\"/\"+ dataset)\n",
        "    for img in img_list:\n",
        "        if img.split('.')[-1] == 'jpeg':\n",
        "            input_img = cv2.imread(PATH +\"/\"+dataset+\"/\"+img)\n",
        "            input_img_resize=cv2.resize(input_img,(img_rows,img_cols))\n",
        "            img_data_list.append(input_img_resize)\n",
        "            target_column.append(dataset)"
      ]
    },
    {
      "cell_type": "code",
      "execution_count": null,
      "metadata": {
        "colab": {
          "base_uri": "https://localhost:8080/"
        },
        "id": "LLpsiu5WIWDx",
        "outputId": "0089e5ee-0551-4eb3-e32b-c5dc3beb1abc"
      },
      "outputs": [
        {
          "output_type": "stream",
          "name": "stdout",
          "text": [
            "num_classes 6\n",
            "Shape of image data (385, 224, 224, 3)\n",
            "number of samples 385\n",
            "target column before encoding ['Crossed_Eyes', 'Crossed_Eyes', 'Crossed_Eyes', 'Crossed_Eyes', 'Crossed_Eyes', 'Crossed_Eyes', 'Crossed_Eyes', 'Crossed_Eyes', 'Crossed_Eyes', 'Crossed_Eyes', 'Crossed_Eyes', 'Crossed_Eyes', 'Crossed_Eyes', 'Crossed_Eyes', 'Crossed_Eyes', 'Crossed_Eyes', 'Crossed_Eyes', 'Crossed_Eyes', 'Crossed_Eyes', 'Crossed_Eyes', 'Crossed_Eyes', 'Crossed_Eyes', 'Crossed_Eyes', 'Crossed_Eyes', 'Crossed_Eyes', 'Crossed_Eyes', 'Crossed_Eyes', 'Crossed_Eyes', 'Crossed_Eyes', 'Crossed_Eyes', 'Crossed_Eyes', 'Crossed_Eyes', 'Crossed_Eyes', 'Crossed_Eyes', 'Crossed_Eyes', 'Crossed_Eyes', 'Crossed_Eyes', 'Crossed_Eyes', 'Crossed_Eyes', 'Crossed_Eyes', 'Crossed_Eyes', 'Crossed_Eyes', 'Crossed_Eyes', 'Crossed_Eyes', 'Crossed_Eyes', 'Crossed_Eyes', 'Crossed_Eyes', 'Crossed_Eyes', 'Crossed_Eyes', 'Crossed_Eyes', 'Crossed_Eyes', 'Crossed_Eyes', 'Crossed_Eyes', 'Crossed_Eyes', 'Crossed_Eyes', 'Crossed_Eyes', 'Crossed_Eyes', 'Crossed_Eyes', 'Crossed_Eyes', 'Crossed_Eyes', 'Crossed_Eyes', 'Crossed_Eyes', 'Crossed_Eyes', 'Crossed_Eyes', 'Crossed_Eyes', 'Crossed_Eyes', 'Crossed_Eyes', 'Crossed_Eyes', 'Crossed_Eyes', 'Crossed_Eyes', 'Crossed_Eyes', 'Crossed_Eyes', 'Crossed_Eyes', 'Crossed_Eyes', 'Crossed_Eyes', 'Crossed_Eyes', 'Crossed_Eyes', 'Crossed_Eyes', 'Crossed_Eyes', 'Crossed_Eyes', 'Crossed_Eyes', 'Crossed_Eyes', 'Crossed_Eyes', 'Crossed_Eyes', 'Crossed_Eyes', 'Crossed_Eyes', 'Crossed_Eyes', 'Crossed_Eyes', 'Crossed_Eyes', 'Crossed_Eyes', 'Crossed_Eyes', 'Crossed_Eyes', 'Crossed_Eyes', 'Crossed_Eyes', 'Crossed_Eyes', 'Crossed_Eyes', 'Crossed_Eyes', 'Crossed_Eyes', 'Crossed_Eyes', 'Crossed_Eyes', 'Crossed_Eyes', 'Crossed_Eyes', 'Crossed_Eyes', 'Crossed_Eyes', 'Crossed_Eyes', 'Crossed_Eyes', 'Crossed_Eyes', 'Crossed_Eyes', 'Crossed_Eyes', 'Crossed_Eyes', 'Crossed_Eyes', 'Crossed_Eyes', 'Crossed_Eyes', 'Crossed_Eyes', 'Crossed_Eyes', 'Crossed_Eyes', 'Crossed_Eyes', 'Crossed_Eyes', 'Crossed_Eyes', 'Crossed_Eyes', 'Crossed_Eyes', 'Crossed_Eyes', 'Crossed_Eyes', 'Crossed_Eyes', 'Crossed_Eyes', 'Crossed_Eyes', 'Crossed_Eyes', 'Crossed_Eyes', 'Crossed_Eyes', 'Crossed_Eyes', 'Crossed_Eyes', 'Crossed_Eyes', 'Crossed_Eyes', 'Crossed_Eyes', 'Crossed_Eyes', 'Crossed_Eyes', 'Crossed_Eyes', 'Crossed_Eyes', 'Crossed_Eyes', 'Crossed_Eyes', 'Crossed_Eyes', 'Crossed_Eyes', 'Crossed_Eyes', 'Crossed_Eyes', 'Crossed_Eyes', 'Crossed_Eyes', 'Crossed_Eyes', 'Crossed_Eyes', 'Crossed_Eyes', 'Crossed_Eyes', 'Crossed_Eyes', 'Crossed_Eyes', 'Crossed_Eyes', 'Crossed_Eyes', 'Crossed_Eyes', 'Crossed_Eyes', 'Crossed_Eyes', 'Crossed_Eyes', 'Crossed_Eyes', 'Crossed_Eyes', 'Crossed_Eyes', 'Crossed_Eyes', 'Crossed_Eyes', 'Crossed_Eyes', 'Crossed_Eyes', 'Crossed_Eyes', 'Crossed_Eyes', 'Crossed_Eyes', 'Bulging_Eyes', 'Bulging_Eyes', 'Bulging_Eyes', 'Bulging_Eyes', 'Bulging_Eyes', 'Bulging_Eyes', 'Bulging_Eyes', 'Bulging_Eyes', 'Bulging_Eyes', 'Bulging_Eyes', 'Bulging_Eyes', 'Bulging_Eyes', 'Bulging_Eyes', 'Bulging_Eyes', 'Bulging_Eyes', 'Bulging_Eyes', 'Bulging_Eyes', 'Bulging_Eyes', 'Bulging_Eyes', 'Bulging_Eyes', 'Bulging_Eyes', 'Bulging_Eyes', 'Bulging_Eyes', 'Bulging_Eyes', 'Bulging_Eyes', 'Bulging_Eyes', 'Bulging_Eyes', 'Bulging_Eyes', 'Bulging_Eyes', 'Bulging_Eyes', 'Cataracts', 'Cataracts', 'Cataracts', 'Cataracts', 'Cataracts', 'Cataracts', 'Cataracts', 'Cataracts', 'Cataracts', 'Cataracts', 'Cataracts', 'Cataracts', 'Cataracts', 'Cataracts', 'Cataracts', 'Cataracts', 'Cataracts', 'Cataracts', 'Cataracts', 'Cataracts', 'Cataracts', 'Cataracts', 'Cataracts', 'Cataracts', 'Cataracts', 'Cataracts', 'Cataracts', 'Cataracts', 'Cataracts', 'Cataracts', 'Cataracts', 'Cataracts', 'Cataracts', 'Cataracts', 'Cataracts', 'Cataracts', 'Cataracts', 'Cataracts', 'Cataracts', 'Cataracts', 'Cataracts', 'Cataracts', 'Cataracts', 'Cataracts', 'Cataracts', 'Cataracts', 'Cataracts', 'Glaucoma', 'Glaucoma', 'Glaucoma', 'Glaucoma', 'Glaucoma', 'Glaucoma', 'Glaucoma', 'Glaucoma', 'Glaucoma', 'Glaucoma', 'Glaucoma', 'Glaucoma', 'Glaucoma', 'Glaucoma', 'Glaucoma', 'Glaucoma', 'Glaucoma', 'Glaucoma', 'Glaucoma', 'Glaucoma', 'Glaucoma', 'Glaucoma', 'Glaucoma', 'Glaucoma', 'Glaucoma', 'Glaucoma', 'Glaucoma', 'Glaucoma', 'Glaucoma', 'Glaucoma', 'Glaucoma', 'Glaucoma', 'Glaucoma', 'Glaucoma', 'Glaucoma', 'Glaucoma', 'Glaucoma', 'Glaucoma', 'Glaucoma', 'Glaucoma', 'Glaucoma', 'Glaucoma', 'Glaucoma', 'Glaucoma', 'Glaucoma', 'Glaucoma', 'Glaucoma', 'Glaucoma', 'Glaucoma', 'Glaucoma', 'Glaucoma', 'Glaucoma', 'Glaucoma', 'Glaucoma', 'Glaucoma', 'Glaucoma', 'Glaucoma', 'Glaucoma', 'Glaucoma', 'Glaucoma', 'Glaucoma', 'Glaucoma', 'Glaucoma', 'Glaucoma', 'Glaucoma', 'Glaucoma', 'Glaucoma', 'Glaucoma', 'Glaucoma', 'Glaucoma', 'Glaucoma', 'Glaucoma', 'Glaucoma', 'Glaucoma', 'Glaucoma', 'Glaucoma', 'Glaucoma', 'Glaucoma', 'Glaucoma', 'Glaucoma', 'Uveitis', 'Uveitis', 'Uveitis', 'Uveitis', 'Uveitis', 'Uveitis', 'Uveitis', 'Uveitis', 'Uveitis', 'Uveitis', 'Uveitis', 'Uveitis', 'Uveitis', 'Uveitis', 'Uveitis', 'Uveitis', 'Uveitis', 'Uveitis', 'Uveitis', 'Uveitis', 'Uveitis', 'Uveitis', 'Uveitis', 'Uveitis', 'Uveitis', 'Uveitis', 'Uveitis', 'Uveitis', 'Uveitis', 'Uveitis', 'Uveitis', 'Uveitis', 'Uveitis', 'Uveitis', 'Uveitis', 'Uveitis', 'Uveitis', 'Uveitis', 'Uveitis', 'Uveitis', 'Uveitis', 'Uveitis', 'Uveitis', 'Uveitis', 'Uveitis', 'Uveitis', 'Uveitis', 'Uveitis', 'Uveitis', 'Uveitis', 'Uveitis', 'Uveitis', 'Uveitis', 'Uveitis', 'Uveitis', 'Uveitis', 'Uveitis', 'Uveitis', 'Uveitis', 'Uveitis']\n"
          ]
        }
      ],
      "source": [
        "num_classes = len(classes_names_list)\n",
        "print(\"num_classes\",num_classes)\n",
        "img_data = np.array(img_data_list) # convert images in numpy array\n",
        "img_data = img_data.astype('float32')\n",
        "img_data /= 255\n",
        "print(\"Shape of image data\",img_data.shape)\n",
        "num_of_samples = img_data.shape[0]\n",
        "input_shape = img_data[0].shape\n",
        "print(\"number of samples\",num_of_samples)\n",
        "print(\"target column before encoding\",target_column)"
      ]
    },
    {
      "cell_type": "code",
      "execution_count": null,
      "metadata": {
        "colab": {
          "base_uri": "https://localhost:8080/"
        },
        "id": "7dzPB3vpIWHN",
        "outputId": "1f4e8e48-7df0-4205-c3bd-0de44d93cb0d"
      },
      "outputs": [
        {
          "output_type": "execute_result",
          "data": {
            "text/plain": [
              "array([0, 1, 2, 3, 4])"
            ]
          },
          "metadata": {},
          "execution_count": 11
        }
      ],
      "source": [
        "Labelencoder = LabelEncoder()\n",
        "target_column = Labelencoder.fit_transform(target_column)\n",
        "np.unique(target_column)"
      ]
    },
    {
      "cell_type": "code",
      "execution_count": null,
      "metadata": {
        "colab": {
          "base_uri": "https://localhost:8080/"
        },
        "id": "IcxR6rSKOL2s",
        "outputId": "0f33e134-2ae2-46cc-966b-00673caa4f4d"
      },
      "outputs": [
        {
          "output_type": "execute_result",
          "data": {
            "text/plain": [
              "array([2, 2, 2, 2, 2, 2, 2, 2, 2, 2, 2, 2, 2, 2, 2, 2, 2, 2, 2, 2, 2, 2,\n",
              "       2, 2, 2, 2, 2, 2, 2, 2, 2, 2, 2, 2, 2, 2, 2, 2, 2, 2, 2, 2, 2, 2,\n",
              "       2, 2, 2, 2, 2, 2, 2, 2, 2, 2, 2, 2, 2, 2, 2, 2, 2, 2, 2, 2, 2, 2,\n",
              "       2, 2, 2, 2, 2, 2, 2, 2, 2, 2, 2, 2, 2, 2, 2, 2, 2, 2, 2, 2, 2, 2,\n",
              "       2, 2, 2, 2, 2, 2, 2, 2, 2, 2, 2, 2, 2, 2, 2, 2, 2, 2, 2, 2, 2, 2,\n",
              "       2, 2, 2, 2, 2, 2, 2, 2, 2, 2, 2, 2, 2, 2, 2, 2, 2, 2, 2, 2, 2, 2,\n",
              "       2, 2, 2, 2, 2, 2, 2, 2, 2, 2, 2, 2, 2, 2, 2, 2, 2, 2, 2, 2, 2, 2,\n",
              "       2, 2, 2, 2, 2, 2, 2, 2, 2, 2, 2, 2, 2, 2, 0, 0, 0, 0, 0, 0, 0, 0,\n",
              "       0, 0, 0, 0, 0, 0, 0, 0, 0, 0, 0, 0, 0, 0, 0, 0, 0, 0, 0, 0, 0, 0,\n",
              "       1, 1, 1, 1, 1, 1, 1, 1, 1, 1, 1, 1, 1, 1, 1, 1, 1, 1, 1, 1, 1, 1,\n",
              "       1, 1, 1, 1, 1, 1, 1, 1, 1, 1, 1, 1, 1, 1, 1, 1, 1, 1, 1, 1, 1, 1,\n",
              "       1, 1, 1, 3, 3, 3, 3, 3, 3, 3, 3, 3, 3, 3, 3, 3, 3, 3, 3, 3, 3, 3,\n",
              "       3, 3, 3, 3, 3, 3, 3, 3, 3, 3, 3, 3, 3, 3, 3, 3, 3, 3, 3, 3, 3, 3,\n",
              "       3, 3, 3, 3, 3, 3, 3, 3, 3, 3, 3, 3, 3, 3, 3, 3, 3, 3, 3, 3, 3, 3,\n",
              "       3, 3, 3, 3, 3, 3, 3, 3, 3, 3, 3, 3, 3, 3, 3, 3, 3, 4, 4, 4, 4, 4,\n",
              "       4, 4, 4, 4, 4, 4, 4, 4, 4, 4, 4, 4, 4, 4, 4, 4, 4, 4, 4, 4, 4, 4,\n",
              "       4, 4, 4, 4, 4, 4, 4, 4, 4, 4, 4, 4, 4, 4, 4, 4, 4, 4, 4, 4, 4, 4,\n",
              "       4, 4, 4, 4, 4, 4, 4, 4, 4, 4, 4])"
            ]
          },
          "metadata": {},
          "execution_count": 12
        }
      ],
      "source": [
        "target_column"
      ]
    },
    {
      "cell_type": "code",
      "execution_count": null,
      "metadata": {
        "id": "PVMnPsE6OL5V"
      },
      "outputs": [],
      "source": [
        "target_column_hotcoded = to_categorical(target_column,num_classes)\n",
        "X,Y = shuffle(img_data,target_column_hotcoded,random_state=2)\n",
        "X_train,X_temp,y_train,y_temp = train_test_split(X,Y,test_size=0.3,random_state=2)\n",
        "X_test,X_val,y_test,y_val = train_test_split(X_temp,y_temp,test_size=0.3,random_state=2)"
      ]
    },
    {
      "cell_type": "code",
      "execution_count": null,
      "metadata": {
        "id": "jcvFfPuFOL7m"
      },
      "outputs": [],
      "source": [
        "first_Mod = Sequential()\n",
        "\n",
        "first_Mod.add(Conv2D(64,(3,3),activation='relu',input_shape=input_shape))\n",
        "first_Mod.add(Conv2D(64,(3,3),activation='relu'))\n",
        "first_Mod.add(MaxPool2D(pool_size=(2,2)))\n",
        "first_Mod.add(Dropout(0.2))\n",
        "\n",
        "first_Mod.add(Conv2D(128,(3,3),activation='relu'))\n",
        "first_Mod.add(Conv2D(128,(3,3),activation='relu'))\n",
        "first_Mod.add(MaxPool2D(pool_size=(2,2)))\n",
        "first_Mod.add(Dropout(0.2))\n",
        "\n",
        "first_Mod.add(Flatten())\n",
        "first_Mod.add(Dense(128,activation='relu'))\n",
        "first_Mod.add(Dropout(0.2))\n",
        "first_Mod.add(Dense(num_classes,activation='softmax'))\n",
        "first_Mod.compile(loss='categorical_crossentropy',optimizer='adam',metrics=['accuracy'])"
      ]
    },
    {
      "cell_type": "code",
      "execution_count": null,
      "metadata": {
        "colab": {
          "base_uri": "https://localhost:8080/"
        },
        "id": "5pTv-t9AOL90",
        "outputId": "d13edf49-776d-4cfc-9174-a74e530a72f5"
      },
      "outputs": [
        {
          "output_type": "stream",
          "name": "stdout",
          "text": [
            "Model: \"sequential\"\n",
            "_________________________________________________________________\n",
            " Layer (type)                Output Shape              Param #   \n",
            "=================================================================\n",
            " conv2d (Conv2D)             (None, 222, 222, 64)      1792      \n",
            "                                                                 \n",
            " conv2d_1 (Conv2D)           (None, 220, 220, 64)      36928     \n",
            "                                                                 \n",
            " max_pooling2d (MaxPooling2D  (None, 110, 110, 64)     0         \n",
            " )                                                               \n",
            "                                                                 \n",
            " dropout (Dropout)           (None, 110, 110, 64)      0         \n",
            "                                                                 \n",
            " conv2d_2 (Conv2D)           (None, 108, 108, 128)     73856     \n",
            "                                                                 \n",
            " conv2d_3 (Conv2D)           (None, 106, 106, 128)     147584    \n",
            "                                                                 \n",
            " max_pooling2d_1 (MaxPooling  (None, 53, 53, 128)      0         \n",
            " 2D)                                                             \n",
            "                                                                 \n",
            " dropout_1 (Dropout)         (None, 53, 53, 128)       0         \n",
            "                                                                 \n",
            " flatten (Flatten)           (None, 359552)            0         \n",
            "                                                                 \n",
            " dense (Dense)               (None, 128)               46022784  \n",
            "                                                                 \n",
            " dropout_2 (Dropout)         (None, 128)               0         \n",
            "                                                                 \n",
            " dense_1 (Dense)             (None, 6)                 774       \n",
            "                                                                 \n",
            "=================================================================\n",
            "Total params: 46,283,718\n",
            "Trainable params: 46,283,718\n",
            "Non-trainable params: 0\n",
            "_________________________________________________________________\n"
          ]
        }
      ],
      "source": [
        "first_Mod.summary()"
      ]
    },
    {
      "cell_type": "code",
      "execution_count": null,
      "metadata": {
        "colab": {
          "base_uri": "https://localhost:8080/"
        },
        "id": "L4nj_Ox6OMAF",
        "outputId": "2c55c71d-da0e-48b3-c2be-2c280c39c795"
      },
      "outputs": [
        {
          "output_type": "stream",
          "name": "stdout",
          "text": [
            "Epoch 1/50\n",
            "9/9 [==============================] - ETA: 0s - loss: 3.0859 - accuracy: 0.3123 \n",
            "Epoch 1: saving model to eye-model-01.hdf5\n",
            "9/9 [==============================] - 177s 19s/step - loss: 3.0859 - accuracy: 0.3123 - val_loss: 1.5776 - val_accuracy: 0.2099\n",
            "Epoch 2/50\n",
            "9/9 [==============================] - ETA: 0s - loss: 1.4886 - accuracy: 0.3941 \n",
            "Epoch 2: saving model to eye-model-02.hdf5\n",
            "9/9 [==============================] - 170s 19s/step - loss: 1.4886 - accuracy: 0.3941 - val_loss: 1.5287 - val_accuracy: 0.3580\n",
            "Epoch 3/50\n",
            "9/9 [==============================] - ETA: 0s - loss: 1.4625 - accuracy: 0.4424 \n",
            "Epoch 3: saving model to eye-model-03.hdf5\n",
            "9/9 [==============================] - 172s 19s/step - loss: 1.4625 - accuracy: 0.4424 - val_loss: 1.5364 - val_accuracy: 0.3704\n",
            "Epoch 4/50\n",
            "9/9 [==============================] - ETA: 0s - loss: 1.3983 - accuracy: 0.4572 \n",
            "Epoch 4: saving model to eye-model-04.hdf5\n",
            "9/9 [==============================] - 170s 19s/step - loss: 1.3983 - accuracy: 0.4572 - val_loss: 1.4661 - val_accuracy: 0.4074\n",
            "Epoch 5/50\n",
            "9/9 [==============================] - ETA: 0s - loss: 1.3328 - accuracy: 0.4312 \n",
            "Epoch 5: saving model to eye-model-05.hdf5\n",
            "9/9 [==============================] - 169s 19s/step - loss: 1.3328 - accuracy: 0.4312 - val_loss: 1.4856 - val_accuracy: 0.3457\n",
            "Epoch 6/50\n",
            "9/9 [==============================] - ETA: 0s - loss: 1.3276 - accuracy: 0.4721 \n",
            "Epoch 6: saving model to eye-model-06.hdf5\n",
            "9/9 [==============================] - 169s 19s/step - loss: 1.3276 - accuracy: 0.4721 - val_loss: 2.3400 - val_accuracy: 0.3704\n",
            "Epoch 7/50\n",
            "9/9 [==============================] - ETA: 0s - loss: 1.2514 - accuracy: 0.5502 \n",
            "Epoch 7: saving model to eye-model-07.hdf5\n",
            "9/9 [==============================] - 172s 19s/step - loss: 1.2514 - accuracy: 0.5502 - val_loss: 1.9908 - val_accuracy: 0.3580\n",
            "Epoch 8/50\n",
            "9/9 [==============================] - ETA: 0s - loss: 1.0063 - accuracy: 0.5985 \n",
            "Epoch 8: saving model to eye-model-08.hdf5\n",
            "9/9 [==============================] - 169s 19s/step - loss: 1.0063 - accuracy: 0.5985 - val_loss: 1.7053 - val_accuracy: 0.4321\n",
            "Epoch 9/50\n",
            "9/9 [==============================] - ETA: 0s - loss: 0.7549 - accuracy: 0.7175 \n",
            "Epoch 9: saving model to eye-model-09.hdf5\n",
            "9/9 [==============================] - 169s 19s/step - loss: 0.7549 - accuracy: 0.7175 - val_loss: 3.0544 - val_accuracy: 0.3210\n",
            "Epoch 10/50\n",
            "9/9 [==============================] - ETA: 0s - loss: 0.4409 - accuracy: 0.8476 \n",
            "Epoch 10: saving model to eye-model-10.hdf5\n",
            "9/9 [==============================] - 172s 19s/step - loss: 0.4409 - accuracy: 0.8476 - val_loss: 3.0202 - val_accuracy: 0.3827\n",
            "Epoch 11/50\n",
            "9/9 [==============================] - ETA: 0s - loss: 0.2691 - accuracy: 0.9033 \n",
            "Epoch 11: saving model to eye-model-11.hdf5\n",
            "9/9 [==============================] - 171s 19s/step - loss: 0.2691 - accuracy: 0.9033 - val_loss: 4.1085 - val_accuracy: 0.3827\n",
            "Epoch 12/50\n",
            "9/9 [==============================] - ETA: 0s - loss: 0.1543 - accuracy: 0.9591 \n",
            "Epoch 12: saving model to eye-model-12.hdf5\n",
            "9/9 [==============================] - 169s 19s/step - loss: 0.1543 - accuracy: 0.9591 - val_loss: 6.6981 - val_accuracy: 0.3580\n",
            "Epoch 13/50\n",
            "9/9 [==============================] - ETA: 0s - loss: 0.0814 - accuracy: 0.9777 \n",
            "Epoch 13: saving model to eye-model-13.hdf5\n",
            "9/9 [==============================] - 170s 19s/step - loss: 0.0814 - accuracy: 0.9777 - val_loss: 5.5826 - val_accuracy: 0.3580\n",
            "Epoch 14/50\n",
            "9/9 [==============================] - ETA: 0s - loss: 0.0662 - accuracy: 0.9814 \n",
            "Epoch 14: saving model to eye-model-14.hdf5\n",
            "9/9 [==============================] - 178s 20s/step - loss: 0.0662 - accuracy: 0.9814 - val_loss: 5.4273 - val_accuracy: 0.3951\n",
            "Epoch 15/50\n",
            "9/9 [==============================] - ETA: 0s - loss: 0.0406 - accuracy: 0.9888 \n",
            "Epoch 15: saving model to eye-model-15.hdf5\n",
            "9/9 [==============================] - 172s 19s/step - loss: 0.0406 - accuracy: 0.9888 - val_loss: 7.3400 - val_accuracy: 0.3704\n",
            "Epoch 16/50\n",
            "9/9 [==============================] - ETA: 0s - loss: 0.0166 - accuracy: 0.9963 \n",
            "Epoch 16: saving model to eye-model-16.hdf5\n",
            "9/9 [==============================] - 170s 19s/step - loss: 0.0166 - accuracy: 0.9963 - val_loss: 6.3826 - val_accuracy: 0.3827\n",
            "Epoch 17/50\n",
            "9/9 [==============================] - ETA: 0s - loss: 0.0468 - accuracy: 0.9926 \n",
            "Epoch 17: saving model to eye-model-17.hdf5\n",
            "9/9 [==============================] - 174s 19s/step - loss: 0.0468 - accuracy: 0.9926 - val_loss: 5.6418 - val_accuracy: 0.3827\n",
            "Epoch 18/50\n",
            "9/9 [==============================] - ETA: 0s - loss: 0.0661 - accuracy: 0.9851 \n",
            "Epoch 18: saving model to eye-model-18.hdf5\n",
            "9/9 [==============================] - 171s 19s/step - loss: 0.0661 - accuracy: 0.9851 - val_loss: 5.3822 - val_accuracy: 0.3827\n",
            "Epoch 19/50\n",
            "9/9 [==============================] - ETA: 0s - loss: 0.0544 - accuracy: 0.9888 \n",
            "Epoch 19: saving model to eye-model-19.hdf5\n",
            "9/9 [==============================] - 171s 19s/step - loss: 0.0544 - accuracy: 0.9888 - val_loss: 5.7632 - val_accuracy: 0.3951\n",
            "Epoch 20/50\n",
            "9/9 [==============================] - ETA: 0s - loss: 0.0896 - accuracy: 0.9740 \n",
            "Epoch 20: saving model to eye-model-20.hdf5\n",
            "9/9 [==============================] - 173s 19s/step - loss: 0.0896 - accuracy: 0.9740 - val_loss: 6.0508 - val_accuracy: 0.4198\n",
            "Epoch 21/50\n",
            "9/9 [==============================] - ETA: 0s - loss: 0.0685 - accuracy: 0.9814 \n",
            "Epoch 21: saving model to eye-model-21.hdf5\n",
            "9/9 [==============================] - 173s 19s/step - loss: 0.0685 - accuracy: 0.9814 - val_loss: 6.8950 - val_accuracy: 0.3951\n",
            "Epoch 22/50\n",
            "9/9 [==============================] - ETA: 0s - loss: 0.0310 - accuracy: 0.9888 \n",
            "Epoch 22: saving model to eye-model-22.hdf5\n",
            "9/9 [==============================] - 172s 19s/step - loss: 0.0310 - accuracy: 0.9888 - val_loss: 8.5156 - val_accuracy: 0.3827\n",
            "Epoch 23/50\n",
            "5/9 [===============>..............] - ETA: 1:14 - loss: 0.0250 - accuracy: 0.9937"
          ]
        }
      ],
      "source": [
        "from keras.callbacks import ModelCheckpoint\n",
        "filepath = \"eye-model-{epoch:02d}.hdf5\"\n",
        "checkpoint = ModelCheckpoint(filepath, monitor='val_acc', verbose=1, save_best_only=False, mode='max')\n",
        "callbacks_list = [checkpoint]\n",
        "hist = first_Mod.fit(X_train,y_train,batch_size=batch_size,epochs=num_epoch,verbose=1,callbacks=callbacks_list,validation_data=(X_test,y_test))\n",
        "score = first_Mod.evaluate(X_test,y_test,batch_size=batch_size)\n",
        "print('Test Loss',score[0])\n",
        "print(\"Test Accuracy\",score[1])"
      ]
    },
    {
      "cell_type": "code",
      "execution_count": null,
      "metadata": {
        "id": "7OBTYwJEOMCa"
      },
      "outputs": [],
      "source": []
    },
    {
      "cell_type": "code",
      "execution_count": null,
      "metadata": {
        "id": "UrwsgZRYOMEo"
      },
      "outputs": [],
      "source": []
    },
    {
      "cell_type": "code",
      "execution_count": null,
      "metadata": {
        "id": "BfZhSYnIOMIO"
      },
      "outputs": [],
      "source": []
    }
  ],
  "metadata": {
    "colab": {
      "provenance": [],
      "include_colab_link": true
    },
    "kernelspec": {
      "display_name": "Python 3",
      "name": "python3"
    },
    "language_info": {
      "name": "python"
    }
  },
  "nbformat": 4,
  "nbformat_minor": 0
}